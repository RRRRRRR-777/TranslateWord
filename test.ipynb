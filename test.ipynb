{
 "cells": [
  {
   "cell_type": "code",
   "execution_count": 1,
   "metadata": {},
   "outputs": [],
   "source": [
    "import requests\n",
    "from bs4 import BeautifulSoup\n",
    "import pandas as pd\n",
    "import glob\n",
    "import tkinter\n",
    "from tkinter import messagebox\n",
    "import csv\n",
    "\n",
    "filename = 'English.csv' # 生成されるCSVファイルのパス指定\n",
    "\n",
    "# tkinterの設定\n",
    "root = tkinter.Tk()\n",
    "root.title(\"Transrate English Word\")\n",
    "root.geometry(\"500x100\")\n",
    "\n",
    "# EditBoxの中身\n",
    "def refer_source_word():\n",
    "    source_word = editBox.get().lower()\n",
    "    trans_res = requests.get('https://ejje.weblio.jp/content/'+source_word).text\n",
    "    soup = BeautifulSoup(trans_res, 'html.parser')\n",
    "    trans_word = soup.select_one('span.content-explanation.ej').text\n",
    "    trans_word = trans_word.replace('\\n', '').replace(' ', '')\n",
    "    if len(trans_word) > 40:\n",
    "        label.config(text=trans_word[:40])\n",
    "        label2.config(text=trans_word[40:])\n",
    "    else:\n",
    "        label.config(text=trans_word)\n",
    "    with open(filename, 'a', newline=\"\") as f:\n",
    "        writer = csv.writer(f, delimiter=' ')\n",
    "        writer.writerow([source_word+ ',' +trans_word])\n",
    "\n",
    "# テキストボックス\n",
    "editBox = tkinter.Entry(width=30)\n",
    "editBox.pack()\n",
    "\n",
    "# ラベル\n",
    "label = tkinter.Label(text='')\n",
    "label2 = tkinter.Label(text='')\n",
    "label.pack()\n",
    "label2.pack()\n",
    "\n",
    "# ボタン\n",
    "entry_button = tkinter.Button(text='Button', command=refer_source_word)    #   エントリーボタン\n",
    "entry_button.pack()\n",
    "\n",
    "root.mainloop()"
   ]
  },
  {
   "cell_type": "code",
   "execution_count": 1,
   "metadata": {},
   "outputs": [
    {
     "name": "stdout",
     "output_type": "stream",
     "text": [
      "https://ejje.weblio.jp/content/apple\n"
     ]
    }
   ],
   "source": [
    "source_word = 'apple'\n",
    "\n",
    "url = 'https://ejje.weblio.jp/content/'+ source_word\n",
    "print(url)"
   ]
  },
  {
   "cell_type": "code",
   "execution_count": null,
   "metadata": {},
   "outputs": [],
   "source": [
    "import requests\n",
    "from bs4 import BeautifulSoup\n",
    "import tkinter as tk\n",
    "from tkinter import messagebox\n",
    "import webbrowser\n",
    "import csv\n",
    "\n",
    "class Application(tk.Frame):\n",
    "    def __init__(self, master = None):\n",
    "        super().__init__(master)\n",
    "        \n",
    "        self.filename = 'Translate.csv' # 生成されるCSVファイルのパス指定\n",
    "        \n",
    "        # tkinterの設定\n",
    "        self.master.title(\"TransrateWord\")\n",
    "        self.master.geometry(\"500x150\")\n",
    "        \n",
    "        # テキストボックス\n",
    "        # self.editBox = tk.Entry(self.master, width=30)\n",
    "        # self.editBox.pack()\n",
    "        \n",
    "        # エンターキー、スペースキーで検索\n",
    "        root.bind('<Return>', self.translate_word) and root.bind('<space>', self.translate_word)\n",
    "\n",
    "        # ソースラベル\n",
    "        self.source_label = tk.Label(self.master, text='')\n",
    "        self.source_label.pack()\n",
    "\n",
    "        # ラベル\n",
    "        self.label = tk.Label(self.master, text='')\n",
    "        self.label2 = tk.Label(self.master, text='')\n",
    "        self.label.pack()\n",
    "        self.label2.pack()\n",
    "\n",
    "        # チェックボックス csv\n",
    "        self.check_value = tk.BooleanVar(self.master, value=True)\n",
    "        self.check = tk.Checkbutton(self.master, text='CSVに入力する', variable=self.check_value)\n",
    "        self.check.pack()\n",
    "        \n",
    "        # チェックボックス 最前面\n",
    "        self.check_value_excude = tk.BooleanVar()\n",
    "        self.check = tk.Checkbutton(self.master, text='常に全面にする', variable=self.check_value_excude, command=self.excute)\n",
    "        self.check.pack()\n",
    "\n",
    "        # ボタン\n",
    "        self.entry_button = tk.Button(self.master, text='Search', command=self.search)\n",
    "        self.entry_button.pack()\n",
    "        \n",
    "        # self.entry_button = tk.Button(master, text='Convert', command=self.translate_word)    #   エントリーボタン\n",
    "        # self.entry_button.pack()\n",
    "    \n",
    "    # EditBoxの中身\n",
    "    def translate_word(self, master):\n",
    "        # try:\n",
    "        #     source_word = root.clipboard_get().lower()\n",
    "        #     if source_word == self.editBox.get().lower():\n",
    "        #         pass\n",
    "        #     else:\n",
    "        #         self.source_label.config(text=source_word, font=('MSゴシック','18', 'bold'))\n",
    "        # except: #Exception in Tkinter callback\n",
    "        #     source_word = self.editBox.get().lower()\n",
    "        self.source_word = root.clipboard_get().lower()\n",
    "        self.source_label.config(text=self.source_word, font=('MSゴシック','18', 'bold'))\n",
    "        url = 'https://ejje.weblio.jp/content/'+ self.source_word\n",
    "        trans_res = requests.get(url).text\n",
    "        soup = BeautifulSoup(trans_res, 'html.parser')\n",
    "        try:\n",
    "            self.trans_word = soup.select_one('span.content-explanation').text\n",
    "            self.trans_word = self.trans_word.replace('\\n', '').replace(' ', '')\n",
    "        except AttributeError:\n",
    "            root.attributes(\"-topmost\", True)\n",
    "            messagebox.showinfo(message='英和・和英辞典で「'+ self.source_word +'」に一致する見出し語は見つかりませんでした')\n",
    "            root.attributes(\"-topmost\", False)\n",
    "        if len(self.trans_word) > 40:\n",
    "            self.label.config(text=self.trans_word[:40])\n",
    "            self.label2.config(text=self.trans_word[40:])\n",
    "        else:\n",
    "            self.label.config(text=self.trans_word)\n",
    "        if self.check_value.get():\n",
    "            with open(self.filename, 'a', newline=\"\") as f:\n",
    "                writer = csv.writer(f, delimiter=' ')\n",
    "                writer.writerow([self.source_word+ ',' +self.trans_word])\n",
    "        \n",
    "    # weblio検索\n",
    "    def search(self):\n",
    "        try:\n",
    "            source_word = root.clipboard_get().lower()\n",
    "        except: #Exception in Tkinter callback\n",
    "            source_word = self.editBox.get().lower()\n",
    "        url = 'https://ejje.weblio.jp/content/'+ source_word\n",
    "        webbrowser.open(url)\n",
    "\n",
    "    # 最前面\n",
    "    def excute(self):\n",
    "        if self.check_value_excude.get():\n",
    "            root.attributes(\"-topmost\", True)\n",
    "        else:\n",
    "            root.attributes(\"-topmost\", False)\n",
    "        \n",
    "if __name__ == \"__main__\":\n",
    "    root = tk.Tk()\n",
    "    app = Application(master = root)\n",
    "    app.mainloop()"
   ]
  },
  {
   "cell_type": "code",
   "execution_count": null,
   "metadata": {},
   "outputs": [],
   "source": [
    "import requests\n",
    "from bs4 import BeautifulSoup\n",
    "import tkinter\n",
    "from tkinter import messagebox\n",
    "import webbrowser\n",
    "import csv\n",
    "\n",
    "filename = 'Translate.csv' # 生成されるCSVファイルのパス指定\n",
    "\n",
    "# tkinterの設定\n",
    "root = tkinter.Tk()\n",
    "root.title(\"TransrateWord\")\n",
    "root.geometry(\"500x180\")\n",
    "\n",
    "# EditBoxの中身\n",
    "def translate_word(event):\n",
    "    try:\n",
    "        source_word = root.clipboard_get().lower()\n",
    "        if source_word == editBox.get().lower():\n",
    "            pass\n",
    "        else:\n",
    "            source_label.config(text=source_word, font=('MSゴシック','18', 'bold'))\n",
    "    except: #Exception in Tkinter callback\n",
    "        source_word = editBox.get().lower()\n",
    "    url = 'https://ejje.weblio.jp/content/'+ source_word\n",
    "    trans_res = requests.get(url).text\n",
    "    soup = BeautifulSoup(trans_res, 'html.parser')\n",
    "    try:\n",
    "        trans_word = soup.select_one('span.content-explanation').text\n",
    "        trans_word = trans_word.replace('\\n', '').replace(' ', '')\n",
    "    except AttributeError:\n",
    "        root.attributes(\"-topmost\", True)\n",
    "        messagebox.showinfo(message='英和・和英辞典で「'+ source_word +'」に一致する見出し語は見つかりませんでした')\n",
    "        root.attributes(\"-topmost\", False)\n",
    "    if len(trans_word) > 40:\n",
    "        label.config(text=trans_word[:40])\n",
    "        label2.config(text=trans_word[40:])\n",
    "    else:\n",
    "        label.config(text=trans_word)\n",
    "    if check_value.get():\n",
    "        with open(filename, 'a', newline=\"\") as f:\n",
    "            writer = csv.writer(f, delimiter=' ')\n",
    "            writer.writerow([source_word+ ',' +trans_word])\n",
    "\n",
    "    return url\n",
    "\n",
    "# weblio検索\n",
    "def search():\n",
    "    try:\n",
    "        source_word = root.clipboard_get().lower()\n",
    "    except: #Exception in Tkinter callback\n",
    "        source_word = editBox.get().lower()\n",
    "    url = 'https://ejje.weblio.jp/content/'+ source_word\n",
    "    webbrowser.open(url)\n",
    "\n",
    "# テキストボックス\n",
    "editBox = tkinter.Entry(width=30)\n",
    "editBox.pack()\n",
    "# エンターキー、スペースキーで検索\n",
    "root.bind('<Return>', translate_word) and root.bind('<space>', translate_word)\n",
    "\n",
    "\n",
    "# ソースラベル\n",
    "source_label = tkinter.Label(text='')\n",
    "source_label.pack()\n",
    "\n",
    "# ラベル\n",
    "label = tkinter.Label(text='')\n",
    "label2 = tkinter.Label(text='')\n",
    "label.pack()\n",
    "label2.pack()\n",
    "\n",
    "# チェックボックス csv\n",
    "check_value = tkinter.BooleanVar(value=True)\n",
    "check = tkinter.Checkbutton(root, text='CSVに入力する', variable=check_value)\n",
    "check.pack()\n",
    "\n",
    "# 最前面\n",
    "def excute():\n",
    "    if check_value_excude.get():\n",
    "        root.attributes(\"-topmost\", True)\n",
    "    else:\n",
    "        root.attributes(\"-topmost\", False)\n",
    "\n",
    "# チェックボックス 最前面\n",
    "check_value_excude = tkinter.BooleanVar()\n",
    "check = tkinter.Checkbutton(root, text='常に全面にする', variable=check_value_excude, command=excute)\n",
    "check.pack()\n",
    "\n",
    "# ボタン\n",
    "entry_button = tkinter.Button(text='Search', command=search)\n",
    "entry_button.pack()\n",
    "# entry_button = tkinter.Button(text='Convert', command=translate_word)    #   エントリーボタン\n",
    "# entry_button.pack()\n",
    "\n",
    "root.mainloop()\n"
   ]
  },
  {
   "cell_type": "code",
   "execution_count": 11,
   "metadata": {},
   "outputs": [],
   "source": [
    "import requests\n",
    "from bs4 import BeautifulSoup\n",
    "import tkinter as tk\n",
    "from tkinter import messagebox\n",
    "import webbrowser\n",
    "import csv\n",
    "\n",
    "class Application(tk.Frame):\n",
    "    def __init__(self, master = None):\n",
    "        super().__init__(master)\n",
    "        # tkinterの設定\n",
    "        self.master.title(\"TransrateWord\")\n",
    "        self.master.geometry(\"500x150\")\n",
    "        \n",
    "        self.textbox = tk.Entry(self.master)\n",
    "        self.textbox.pack()\n",
    "        \n",
    "        self.button = tk.Button(self.master, text='enter', command=self.get_word)\n",
    "        self.button.pack()\n",
    "        \n",
    "\n",
    "\n",
    "    def get_word(self):\n",
    "        self.word = self.textbox.get()\n",
    "        if len(self.word) > 20:\n",
    "            self.label1 = tk.Label(text='')\n",
    "            self.label1.pack()\n",
    "            self.label1[\"text\"] = self.word[:20]\n",
    "            \n",
    "            self.label2 = tk.Label(text='')\n",
    "            self.label2.pack()\n",
    "            self.label2[\"text\"] = self.word[20:] # ラベルの中身を書き換える\n",
    "        else:\n",
    "            self.label1 = tk.Label(text='')\n",
    "            self.label1.pack()\n",
    "            self.label1['text'] = self.word\n",
    "            self.label1.config(text=self.word)\n",
    "\n",
    "\n",
    "if __name__ == \"__main__\":\n",
    "    root = tk.Tk()\n",
    "    app = Application(master = root)\n",
    "    app.mainloop()"
   ]
  },
  {
   "cell_type": "code",
   "execution_count": 6,
   "metadata": {},
   "outputs": [
    {
     "name": "stderr",
     "output_type": "stream",
     "text": [
      "Exception in Tkinter callback\n",
      "Traceback (most recent call last):\n",
      "  File \"/Users/yamadariku/opt/anaconda3/envs/transrateenglishword/lib/python3.10/tkinter/__init__.py\", line 1921, in __call__\n",
      "    return self.func(*args)\n",
      "  File \"/var/folders/cc/p1j_5qj51w3_4v1z4h234jmc0000gn/T/ipykernel_34786/4092345365.py\", line 13, in buttoneffect\n",
      "    int_values = list(map(int, split_value))\n",
      "ValueError: invalid literal for int() with base 10: 'Input this box.'\n"
     ]
    }
   ],
   "source": [
    "import tkinter as tk\n",
    "\n",
    "root = tk.Tk()\n",
    "root.title(u\"平均算出アプリ\")\n",
    "root.geometry(\"400x300\")\n",
    "\n",
    "\n",
    "# ボタンを押したときの処理\n",
    "\n",
    "def buttoneffect(event):\n",
    "    value = textbox.get()\n",
    "    split_value = value.split(\",\")\n",
    "    int_values = list(map(int, split_value))\n",
    "    average = sum(int_values) / len(int_values)\n",
    "\n",
    "    textbox.delete(0, tk.END)  # テキストボックスの中身を初期化する\n",
    "    words4[\"text\"] = \"平均値は%sです。\" % average  # ラベルの中身を書き換える\n",
    "\n",
    "\n",
    "# ボタンやテキストボックスの配置\n",
    "\n",
    "words = tk.Label(text=u\"入力された値の平均値を算出します。\", font=(\"\", 12))\n",
    "words.pack()\n",
    "\n",
    "words2 = tk.Label(text=u\"カンマ区切りで数値を入力してください。\", font=(\"\", 12))\n",
    "words2.pack()\n",
    "\n",
    "textbox = tk.Entry()\n",
    "textbox.insert(tk.END, \"Input this box.\")\n",
    "textbox.place(x=140, y=70)\n",
    "\n",
    "button = tk.Button(text=u\"計算する\")\n",
    "button.bind(\"<Button-1>\", buttoneffect)\n",
    "button.place(x=150, y=100)\n",
    "\n",
    "words3 = tk.Label(text=u\"統計データ\", font=(\"\", 12))\n",
    "words3.place(x=50, y=140)\n",
    "\n",
    "words4 = tk.Label(text=u\"　\", font=(\"\", 12))  # 平均値の出力に利用する空のラベル\n",
    "words4.place(x=140, y=160)\n",
    "\n",
    "\n",
    "root.mainloop()"
   ]
  },
  {
   "cell_type": "code",
   "execution_count": 52,
   "metadata": {},
   "outputs": [],
   "source": [
    "import pandas as pd\n",
    "\n",
    "df = pd.read_csv('test.csv', index_col=0, encoding='shift-jis')\n",
    "df = df.drop_duplicates()\n",
    "df.to_csv('tmp_test.csv', encoding='shift-jis')"
   ]
  },
  {
   "cell_type": "code",
   "execution_count": 29,
   "metadata": {},
   "outputs": [],
   "source": [
    "import pandas as pd\n",
    "\n",
    "filename = 'test.csv'\n",
    "encoding = 'cp932'\n",
    "\n",
    "df = pd.read_csv('test.csv', index_col=0, encoding=encoding).reset_index().drop_duplicates()\n",
    "df.to_csv('test.csv', encoding=encoding, index=False)"
   ]
  },
  {
   "cell_type": "code",
   "execution_count": 24,
   "metadata": {},
   "outputs": [
    {
     "ename": "SyntaxError",
     "evalue": "positional argument follows keyword argument (1417530923.py, line 1)",
     "output_type": "error",
     "traceback": [
      "\u001b[0;36m  Cell \u001b[0;32mIn[24], line 1\u001b[0;36m\u001b[0m\n\u001b[0;31m    df.insert(column=0,'hello', 'こんにちは')\u001b[0m\n\u001b[0m                                       ^\u001b[0m\n\u001b[0;31mSyntaxError\u001b[0m\u001b[0;31m:\u001b[0m positional argument follows keyword argument\n"
     ]
    }
   ],
   "source": [
    "df.insert(column=0,'hello', 'こんにちは')"
   ]
  },
  {
   "cell_type": "code",
   "execution_count": 47,
   "metadata": {},
   "outputs": [
    {
     "data": {
      "text/plain": [
       "standardizing                           dozens of kind of\n",
       "standardizeの現在分詞。(…を)標準に合わせる、標準化する     数十種類、何十種類も、何十種類もある\n",
       "Name: 3, dtype: object"
      ]
     },
     "execution_count": 47,
     "metadata": {},
     "output_type": "execute_result"
    }
   ],
   "source": []
  },
  {
   "cell_type": "code",
   "execution_count": 49,
   "metadata": {},
   "outputs": [
    {
     "data": {
      "text/html": [
       "<div>\n",
       "<style scoped>\n",
       "    .dataframe tbody tr th:only-of-type {\n",
       "        vertical-align: middle;\n",
       "    }\n",
       "\n",
       "    .dataframe tbody tr th {\n",
       "        vertical-align: top;\n",
       "    }\n",
       "\n",
       "    .dataframe thead th {\n",
       "        text-align: right;\n",
       "    }\n",
       "</style>\n",
       "<table border=\"1\" class=\"dataframe\">\n",
       "  <thead>\n",
       "    <tr style=\"text-align: right;\">\n",
       "      <th></th>\n",
       "      <th>Source</th>\n",
       "      <th>Translate</th>\n",
       "    </tr>\n",
       "  </thead>\n",
       "  <tbody>\n",
       "  </tbody>\n",
       "</table>\n",
       "</div>"
      ],
      "text/plain": [
       "Empty DataFrame\n",
       "Columns: [Source, Translate]\n",
       "Index: []"
      ]
     },
     "execution_count": 49,
     "metadata": {},
     "output_type": "execute_result"
    }
   ],
   "source": [
    "\n",
    "df"
   ]
  },
  {
   "cell_type": "code",
   "execution_count": 70,
   "metadata": {},
   "outputs": [
    {
     "name": "stderr",
     "output_type": "stream",
     "text": [
      "/var/folders/cc/p1j_5qj51w3_4v1z4h234jmc0000gn/T/ipykernel_83269/1917885290.py:2: FutureWarning: The frame.append method is deprecated and will be removed from pandas in a future version. Use pandas.concat instead.\n",
      "  df = df.append({'Source':'hello', 'Translate': 'こんにちは'}, ignore_index=True).reset_index(drop=True)\n"
     ]
    }
   ],
   "source": []
  },
  {
   "cell_type": "code",
   "execution_count": 69,
   "metadata": {},
   "outputs": [
    {
     "name": "stderr",
     "output_type": "stream",
     "text": [
      "/var/folders/cc/p1j_5qj51w3_4v1z4h234jmc0000gn/T/ipykernel_83269/1629733321.py:1: FutureWarning: The frame.append method is deprecated and will be removed from pandas in a future version. Use pandas.concat instead.\n",
      "  df = df.append({'Source':'hello', 'Translate': 'こんにちは'}, ignore_index=True)\n"
     ]
    }
   ],
   "source": []
  },
  {
   "cell_type": "code",
   "execution_count": 82,
   "metadata": {},
   "outputs": [
    {
     "ename": "ValueError",
     "evalue": "The truth value of a Series is ambiguous. Use a.empty, a.bool(), a.item(), a.any() or a.all().",
     "output_type": "error",
     "traceback": [
      "\u001b[0;31m---------------------------------------------------------------------------\u001b[0m",
      "\u001b[0;31mValueError\u001b[0m                                Traceback (most recent call last)",
      "Cell \u001b[0;32mIn[82], line 2\u001b[0m\n\u001b[1;32m      1\u001b[0m df \u001b[39m=\u001b[39m pd\u001b[39m.\u001b[39mread_csv(filename, index_col\u001b[39m=\u001b[39m\u001b[39m0\u001b[39m, encoding\u001b[39m=\u001b[39m\u001b[39m'\u001b[39m\u001b[39mshift-jis\u001b[39m\u001b[39m'\u001b[39m)\n\u001b[0;32m----> 2\u001b[0m \u001b[39mif\u001b[39;00m df\u001b[39m.\u001b[39mduplicated():\n\u001b[1;32m      3\u001b[0m     \u001b[39mpass\u001b[39;00m\n",
      "File \u001b[0;32m~/opt/anaconda3/envs/transrateenglishword/lib/python3.10/site-packages/pandas/core/generic.py:1527\u001b[0m, in \u001b[0;36mNDFrame.__nonzero__\u001b[0;34m(self)\u001b[0m\n\u001b[1;32m   1525\u001b[0m \u001b[39m@final\u001b[39m\n\u001b[1;32m   1526\u001b[0m \u001b[39mdef\u001b[39;00m \u001b[39m__nonzero__\u001b[39m(\u001b[39mself\u001b[39m) \u001b[39m-\u001b[39m\u001b[39m>\u001b[39m NoReturn:\n\u001b[0;32m-> 1527\u001b[0m     \u001b[39mraise\u001b[39;00m \u001b[39mValueError\u001b[39;00m(\n\u001b[1;32m   1528\u001b[0m         \u001b[39mf\u001b[39m\u001b[39m\"\u001b[39m\u001b[39mThe truth value of a \u001b[39m\u001b[39m{\u001b[39;00m\u001b[39mtype\u001b[39m(\u001b[39mself\u001b[39m)\u001b[39m.\u001b[39m\u001b[39m__name__\u001b[39m\u001b[39m}\u001b[39;00m\u001b[39m is ambiguous. \u001b[39m\u001b[39m\"\u001b[39m\n\u001b[1;32m   1529\u001b[0m         \u001b[39m\"\u001b[39m\u001b[39mUse a.empty, a.bool(), a.item(), a.any() or a.all().\u001b[39m\u001b[39m\"\u001b[39m\n\u001b[1;32m   1530\u001b[0m     )\n",
      "\u001b[0;31mValueError\u001b[0m: The truth value of a Series is ambiguous. Use a.empty, a.bool(), a.item(), a.any() or a.all()."
     ]
    }
   ],
   "source": [
    "df = pd.read_csv(filename, index_col=0, encoding='shift-jis')\n"
   ]
  },
  {
   "cell_type": "code",
   "execution_count": 67,
   "metadata": {},
   "outputs": [],
   "source": [
    "import tkinter as tk\n",
    "\n",
    "root = tk.Tk()\n",
    "root.title(\"TransrateWord\")\n",
    "root.geometry(\"500x120\")\n",
    "\n",
    "root.grid_rowconfigure(0, weight=1)\n",
    "root.grid_rowconfigure(3, weight=1)\n",
    "root.grid_columnconfigure(0, weight=1)\n",
    "root.grid_columnconfigure(2, weight=1)\n",
    "\n",
    "\n"
   ]
  },
  {
   "cell_type": "code",
   "execution_count": 100,
   "metadata": {},
   "outputs": [
    {
     "ename": "",
     "evalue": "",
     "output_type": "error",
     "traceback": [
      "\u001b[1;31m現在のセルまたは前のセルでコードを実行中に、カーネルがクラッシュしました。エラーの原因を特定するには、セル内のコードを確認してください。詳細については、<a href='https://aka.ms/vscodeJupyterKernelCrash'>こちら</a> をクリックしてください。さらなる詳細については、Jupyter [log] (command:jupyter.viewOutput) を参照してください。"
     ]
    }
   ],
   "source": [
    "import tkinter as tk\n",
    "\n",
    "class Application(tk.Frame):\n",
    "    def __init__(self, parent):\n",
    "        tk.Frame.__init__(self, parent)\n",
    "        \n",
    "        self.max_row = 5\n",
    "\n",
    "        self.grid_rowconfigure(0, weight=1)\n",
    "        self.grid_rowconfigure(self.max_row, weight=1)\n",
    "        self.grid_columnconfigure(0, weight=1)\n",
    "        self.grid_columnconfigure(2, weight=1)\n",
    "        \n",
    "        # textbox\n",
    "        self.textbox1 = tk.Entry()\n",
    "        self.textbox1.grid(row=self.max_row-5,column=0)\n",
    "\n",
    "        # button\n",
    "        self.button1 = tk.Button(text='change', command=self.change)\n",
    "        self.button1.grid(row=self.max_row,column=0)\n",
    "    \n",
    "    def change(self):\n",
    "        self.text = self.textbox1.get()\n",
    "        if len(self.text) >= 30:\n",
    "            label1 = tk.Label(text='SampleText')\n",
    "            label1.grid(row=self.max_row -3,column=0)\n",
    "            label1.config(text=self.text[:10])\n",
    "            label2 = tk.Label(text='SampleText')\n",
    "            label2.grid(row=self.max_row -2,column=0)\n",
    "            label2.config(text=self.text[10:20])\n",
    "            label3 = tk.Label(text='SampleText')\n",
    "            label3.grid(row=self.max_row -1,column=0)\n",
    "            label3.config(text=self.text[20:])\n",
    "        elif len(self.text) >= 20:\n",
    "            label1 = tk.Label(text='SampleText')\n",
    "            label1.grid(row=self.max_row -2,column=0)\n",
    "            label1.config(text=self.text[:10])\n",
    "            label2 = tk.Label(text='SampleText')\n",
    "            label2.grid(row=self.max_row -1,column=0)\n",
    "            label2.config(text=self.text[10:20])\n",
    "        else:\n",
    "            label1 = tk.Label(text='SampleText')\n",
    "            label1.grid(row=self.max_row -1,column=0)\n",
    "            label1.config(text=self.text[:10])\n",
    "\n",
    "if __name__ == \"__main__\":\n",
    "    root = tk.Tk()\n",
    "    Application(root).grid(sticky=\"nsew\")\n",
    "    root.title(\"TransrateWord\")\n",
    "    root.geometry(\"500x120\")\n",
    "    root.grid_rowconfigure(0, weight=1)\n",
    "    root.grid_columnconfigure(0, weight=1)\n",
    "\n",
    "    root.mainloop()"
   ]
  },
  {
   "cell_type": "code",
   "execution_count": 26,
   "metadata": {},
   "outputs": [
    {
     "name": "stdout",
     "output_type": "stream",
     "text": [
      "複数形。(定期的に支給する)手当、給与額、…費\n"
     ]
    }
   ],
   "source": [
    "str = 'allowanceの三人称単数現在。allowanceの複数形。(定期的に支給する)手当、給与額、…費'\n",
    "repalace_word=['三人称単数現在', '過去形、または過去分詞', '現在分詞', '複数形']\n",
    "for i in range(len(repalace_word)):\n",
    "    if str.find(repalace_word[i]) != -1:\n",
    "        str = str.replace(str[:str.find(repalace_word[i])], '')\n",
    "print(str)"
   ]
  },
  {
   "cell_type": "code",
   "execution_count": 22,
   "metadata": {},
   "outputs": [
    {
     "data": {
      "text/plain": [
       "'複数形。ありそうなこと、 起こりそうなこと'"
      ]
     },
     "execution_count": 22,
     "metadata": {},
     "output_type": "execute_result"
    }
   ],
   "source": [
    "str.replace(str[:12], '')"
   ]
  },
  {
   "cell_type": "code",
   "execution_count": 16,
   "metadata": {},
   "outputs": [
    {
     "name": "stdout",
     "output_type": "stream",
     "text": [
      "wofhdfjkrs\n"
     ]
    }
   ],
   "source": [
    "word = 'WOfH df  jkrs'\n",
    "word = word.replace(' ','').lower()\n",
    "\n",
    "print(word)"
   ]
  },
  {
   "cell_type": "code",
   "execution_count": null,
   "metadata": {},
   "outputs": [],
   "source": [
    "hEl  lo"
   ]
  },
  {
   "cell_type": "code",
   "execution_count": null,
   "metadata": {},
   "outputs": [],
   "source": [
    "過去形、または過去分詞。産する、生ずる"
   ]
  },
  {
   "cell_type": "code",
   "execution_count": 64,
   "metadata": {},
   "outputs": [
    {
     "name": "stdout",
     "output_type": "stream",
     "text": [
      "trans_word makeの過去形・過去分詞\n",
      "(創造して)作る、造る、作る、製作する、組み立てる、建設する、創作する、著わす、作ってやる、(…に)作る\n"
     ]
    }
   ],
   "source": [
    "import requests\n",
    "from bs4 import BeautifulSoup\n",
    "\n",
    "replace_word = ['三人称単数現在', '過去形、または過去分詞', '現在分詞', '複数形', '過去形・過去分詞']\n",
    "\n",
    "source_word = 'made'\n",
    "\n",
    "url = 'https://ejje.weblio.jp/content/'+source_word\n",
    "trans_res = requests.get(url).text\n",
    "soup = BeautifulSoup(trans_res, 'html.parser')\n",
    "\n",
    "trans_word = soup.select_one('span.content-explanation').text\n",
    "trans_word = trans_word.replace('\\n', '').replace(' ', '')\n",
    "print('trans_word',trans_word)\n",
    "\n",
    "for i in range(len(replace_word)):\n",
    "    if trans_word.find(replace_word[i]) != -1:\n",
    "        replace_word = trans_word.find(replace_word[i])\n",
    "        trans_word = trans_word[:replace_word - 1]\n",
    "        url = 'https://ejje.weblio.jp/content/'+trans_word\n",
    "        trans_res = requests.get(url).text\n",
    "        soup = BeautifulSoup(trans_res, 'html.parser')\n",
    "        trans_word = soup.select_one('span.content-explanation').text\n",
    "        trans_word = trans_word.replace('\\n', '').replace(' ', '')\n",
    "        print(trans_word)"
   ]
  },
  {
   "cell_type": "code",
   "execution_count": null,
   "metadata": {},
   "outputs": [],
   "source": []
  }
 ],
 "metadata": {
  "kernelspec": {
   "display_name": "Kaggle_lesson",
   "language": "python",
   "name": "python3"
  },
  "language_info": {
   "codemirror_mode": {
    "name": "ipython",
    "version": 3
   },
   "file_extension": ".py",
   "mimetype": "text/x-python",
   "name": "python",
   "nbconvert_exporter": "python",
   "pygments_lexer": "ipython3",
   "version": "3.10.9"
  },
  "orig_nbformat": 4,
  "vscode": {
   "interpreter": {
    "hash": "7ef719a79deca73cd11829383432dc8deb550ee7c08ecee71a3f71b8b2ca825d"
   }
  }
 },
 "nbformat": 4,
 "nbformat_minor": 2
}
